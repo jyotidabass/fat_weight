{
  "nbformat": 4,
  "nbformat_minor": 0,
  "metadata": {
    "colab": {
      "name": "fat_weightipynb",
      "provenance": [],
      "authorship_tag": "ABX9TyP3lqBmYkWQJwB9Jw03NxHb",
      "include_colab_link": true
    },
    "kernelspec": {
      "name": "python3",
      "display_name": "Python 3"
    },
    "language_info": {
      "name": "python"
    }
  },
  "cells": [
    {
      "cell_type": "markdown",
      "metadata": {
        "id": "view-in-github",
        "colab_type": "text"
      },
      "source": [
        "<a href=\"https://colab.research.google.com/github/jyotidabass/fat_weight/blob/main/fat_weightipynb.ipynb\" target=\"_parent\"><img src=\"https://colab.research.google.com/assets/colab-badge.svg\" alt=\"Open In Colab\"/></a>"
      ]
    },
    {
      "cell_type": "code",
      "execution_count": 1,
      "metadata": {
        "colab": {
          "base_uri": "https://localhost:8080/"
        },
        "id": "O2pJn2FpiamN",
        "outputId": "46ce36ed-7cac-409b-e7ed-67bcd55a146d"
      },
      "outputs": [
        {
          "output_type": "stream",
          "name": "stdout",
          "text": [
            "Please enter your current weight (lb): 45\n",
            "\n",
            "\n",
            "Please select one of the following options by entering its number:\n",
            "                0) Loose Weight\n",
            "                1) Maintain Weight\n",
            "                2) Gain Mussle\n",
            "    \n",
            "Enter your selection here: 2\n",
            "\n",
            "\n",
            "[720, 810]\n",
            "\n",
            "\n",
            "Would you like to continue? no\n",
            "Thank you for using my tool.\n"
          ]
        }
      ],
      "source": [
        "#!/usr/bin/env python3\n",
        "\n",
        "\n",
        "# Import Packages:\n",
        "#import numpy as np\n",
        "\n",
        "# Define A Class for the possiblities:\n",
        "class WCalc:\n",
        "    \n",
        "    def __init__(self, weight = 0):\n",
        "        self.weight = weight\n",
        "    \n",
        "    gain_mussle_vals = [16, 18]\n",
        "    loose_fat_vals = [10, 12]\n",
        "    maintain_vals = [14, 15]\n",
        "    \n",
        "    \n",
        "    def getUserWeight(self):\n",
        "        self.weight = int(input('Please enter your current weight (lb): '))\n",
        "        \n",
        "    def looseWeight(self):\n",
        "        loose_cals = list(map(lambda x: self.weight * x, self.loose_fat_vals))\n",
        "        print(loose_cals)\n",
        "    \n",
        "    def maintainWeight(self):\n",
        "        same_cals = list(map(lambda x: self.weight * x, self.maintain_vals))\n",
        "        print(same_cals)\n",
        "        \n",
        "    def gainMusscle(self):\n",
        "        gain_cals = list(map(lambda x: self.weight * x, self.gain_mussle_vals))\n",
        "        print(gain_cals)\n",
        "        \n",
        "\n",
        "# Facilitate user experiance:\n",
        "\n",
        "class User:\n",
        "    \n",
        "    def __init__(self, run = True):\n",
        "        self.run = run\n",
        "        \n",
        "    yes_vals = ['Yes', 'yes', 'y', 'Y', 'Yup', 'yis', 'YES']\n",
        "    sel_vlas = '''Please select one of the following options by entering its number:\n",
        "                0) Loose Weight\n",
        "                1) Maintain Weight\n",
        "                2) Gain Mussle\n",
        "    '''\n",
        "        \n",
        "    def setRun(self):\n",
        "        user_anser = input(\"Would you like to continue? \")\n",
        "        if user_anser in self.yes_vals:\n",
        "            self.run = True\n",
        "        else:\n",
        "            self.run = False\n",
        "            \n",
        "    def getRun(self):\n",
        "        return self.run\n",
        "    \n",
        "    def sortCalc(self, obj):\n",
        "        print(self.sel_vlas)\n",
        "        user_anser = int(input(\"Enter your selection here: \"))\n",
        "        print('\\n')\n",
        "        if user_anser == 0:\n",
        "            obj.looseWeight()\n",
        "        elif user_anser == 1:\n",
        "            obj.maintainWeight()\n",
        "        else:\n",
        "            obj.gainMusscle()\n",
        "    \n",
        "# Make a few objects\n",
        "c1 = WCalc()\n",
        "u1 = User()            \n",
        "\n",
        "# Get user Weight:\n",
        "c1.getUserWeight()\n",
        "\n",
        "# Ask followup questions and run analysis\n",
        "        \n",
        "while u1.run:\n",
        "    \n",
        "    print('\\n')\n",
        "    u1.sortCalc(c1)\n",
        "    print('\\n')\n",
        "    u1.setRun()\n",
        "\n",
        "# End process    \n",
        "print(\"Thank you for using my tool.\")"
      ]
    }
  ]
}